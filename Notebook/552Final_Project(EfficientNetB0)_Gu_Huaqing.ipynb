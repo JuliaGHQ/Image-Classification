{
 "cells": [
  {
   "cell_type": "markdown",
   "metadata": {
    "id": "rdIFNWr8FDM_"
   },
   "source": [
    "Gu Huaqing Github Username: JuliaGHQ USC ID: 2433803934"
   ]
  },
  {
   "cell_type": "markdown",
   "metadata": {
    "id": "uEysxUhzY-mC"
   },
   "source": [
    "**For EfficientNetB0 part**"
   ]
  },
  {
   "cell_type": "code",
   "execution_count": null,
   "metadata": {
    "id": "pxD2MfgoNNdS"
   },
   "outputs": [],
   "source": [
    "import tensorflow as tf\n",
    "import pandas as pd\n",
    "import numpy as np\n",
    "import matplotlib.pyplot as plt\n",
    "import cv2\n",
    "import random\n",
    "import os\n",
    "from tensorflow.keras.models import Sequential, Model, load_model\n",
    "from tensorflow.keras.layers import Dense,Conv2D,MaxPooling2D,Flatten,Dropout,BatchNormalization,Activation\n",
    "from tensorflow.keras.preprocessing.image import ImageDataGenerator\n",
    "from tensorflow.keras.preprocessing.image import load_img,img_to_array\n",
    "from tensorflow.keras import applications, optimizers"
   ]
  },
  {
   "cell_type": "code",
   "execution_count": null,
   "metadata": {
    "id": "zUmxkyIjRwSh"
   },
   "outputs": [],
   "source": [
    "from tensorflow.keras.optimizers import Adam\n",
    "\n",
    "from keras.models import Model\n",
    "from keras.optimizers import Adam\n",
    "from keras.applications.vgg16 import VGG16, preprocess_input\n",
    "from keras.preprocessing.image import ImageDataGenerator\n",
    "from keras.callbacks import ModelCheckpoint, EarlyStopping\n",
    "from keras.layers import Dense, Dropout, Flatten, BatchNormalization\n",
    "from pathlib import Path"
   ]
  },
  {
   "cell_type": "markdown",
   "metadata": {
    "id": "qF_HBsPNRu0y"
   },
   "source": [
    "**(a)&(b) Download the data and split them into train test and validation files.**"
   ]
  },
  {
   "cell_type": "code",
   "execution_count": null,
   "metadata": {
    "id": "IVmDDGlobqp6"
   },
   "outputs": [],
   "source": [
    "from tensorflow.keras.applications import EfficientNetB0"
   ]
  },
  {
   "cell_type": "code",
   "execution_count": null,
   "metadata": {
    "colab": {
     "base_uri": "https://localhost:8080/"
    },
    "id": "SdFbwO10NZa9",
    "outputId": "e8821a4b-aaf7-4206-bb36-510f9016eb71"
   },
   "outputs": [
    {
     "name": "stdout",
     "output_type": "stream",
     "text": [
      "Looking in indexes: https://pypi.org/simple, https://us-python.pkg.dev/colab-wheels/public/simple/\n",
      "Requirement already satisfied: split-folders in /usr/local/lib/python3.8/dist-packages (0.5.1)\n"
     ]
    }
   ],
   "source": [
    "pip install split-folders"
   ]
  },
  {
   "cell_type": "code",
   "execution_count": null,
   "metadata": {
    "colab": {
     "base_uri": "https://localhost:8080/"
    },
    "id": "gfhEdVcfOkh3",
    "outputId": "56d88263-ef2e-4cf2-8872-3834fe19b8da"
   },
   "outputs": [
    {
     "name": "stderr",
     "output_type": "stream",
     "text": [
      "Copying files: 1176 files [00:05, 213.32 files/s]\n"
     ]
    }
   ],
   "source": [
    "#Same as the VGG16 model training, for EfficientNetB0 model, we also split the files first into ratio(0.7,0.15,0.15).\n",
    "import splitfolders\n",
    "\n",
    "input_folder = '/content/drive/MyDrive/Colab Notebooks/552/images'\n",
    "splitfolders.ratio(input_folder, output=\"output\", seed=1, ratio=(0.7, 0.15,0.15), group_prefix=None, move=False) \n"
   ]
  },
  {
   "cell_type": "code",
   "execution_count": null,
   "metadata": {
    "id": "AImEs0HG9v-x"
   },
   "outputs": [],
   "source": [
    "#Make sure the Batch size for processing and set the ImageDataGenerator to do the image augementation for train, validation and test sets. \n",
    "#The number of samples that will be propagated through the network is 64 to make sure the model is more  accurate. \n",
    "BATCH_SIZE = 64 \n",
    "\n",
    "train_generator = ImageDataGenerator(rotation_range=90, \n",
    "                                     brightness_range=[0.1, 0.7],\n",
    "                                     width_shift_range=0.5, \n",
    "                                     height_shift_range=0.5,\n",
    "                                     horizontal_flip=True, \n",
    "                                     vertical_flip=True,\n",
    "                                     shear_range=0.2,\n",
    "                                     zoom_range=[0.1, 0.7],\n",
    "                                     validation_split=0.15,\n",
    "                                     preprocessing_function=preprocess_input) # VGG16 preprocessing\n",
    "val_generator = ImageDataGenerator(preprocessing_function=preprocess_input)  # VGG16 preprocessingw\n",
    "test_generator = ImageDataGenerator(preprocessing_function=preprocess_input) # VGG16 preprocessingw"
   ]
  },
  {
   "cell_type": "code",
   "execution_count": null,
   "metadata": {
    "id": "tacWQKDU4RYE"
   },
   "outputs": [],
   "source": [
    "#Import the image or the data from the file path. \n",
    "download_dir = Path('/content/drive/MyDrive/Colab Notebooks/552/images')\n",
    "\n",
    "train_data_dir = \"/content/output/train\"\n",
    "test_data_dir = \"/content/output/test\"\n",
    "valid_data_dir = \"/content/output/val\""
   ]
  },
  {
   "cell_type": "markdown",
   "metadata": {},
   "source": [
    "*Do One Hot Encoding for the Dataset*"
   ]
  },
  {
   "cell_type": "code",
   "execution_count": null,
   "metadata": {
    "colab": {
     "base_uri": "https://localhost:8080/"
    },
    "id": "nn2I9MCYsWUd",
    "outputId": "3170548d-b471-4939-e871-630b874b0706",
    "scrolled": true
   },
   "outputs": [
    {
     "name": "stdout",
     "output_type": "stream",
     "text": [
      "Found 820 images belonging to 20 classes.\n",
      "Found 171 images belonging to 20 classes.\n",
      "Found 185 images belonging to 20 classes.\n"
     ]
    }
   ],
   "source": [
    "#Separate train, valid and test sets with target size and one hot encoding. \n",
    "class_subset = sorted(os.listdir(download_dir))\n",
    "\n",
    "train_gen = train_generator.flow_from_directory(train_data_dir,\n",
    "                                               target_size=(224, 224),\n",
    "                                               class_mode='categorical',\n",
    "                                               classes=class_subset,\n",
    "                                               batch_size=BATCH_SIZE, \n",
    "                                               shuffle=True,\n",
    "                                               seed=42)\n",
    "\n",
    "valid_gen = val_generator.flow_from_directory(valid_data_dir,\n",
    "                                               target_size=(224, 224),\n",
    "                                               class_mode='categorical',       #OneHotEncoder\n",
    "                                               classes=class_subset,\n",
    "                                               batch_size=BATCH_SIZE,\n",
    "                                               shuffle=False,\n",
    "                                               seed=42)\n",
    "\n",
    "test_gen = test_generator.flow_from_directory(test_data_dir,\n",
    "                                             target_size=(224, 224),\n",
    "                                             class_mode='categorical',\n",
    "                                             classes=class_subset,\n",
    "                                             batch_size=1,\n",
    "                                             shuffle=False,\n",
    "                                             seed=42)"
   ]
  },
  {
   "cell_type": "markdown",
   "metadata": {},
   "source": [
    "**(c) Transfer learning EfficientNetB0 model and use Relu and train the EfficientNetB0 model for at least 50 epochs**"
   ]
  },
  {
   "cell_type": "code",
   "execution_count": null,
   "metadata": {
    "id": "YeaGDugghQ87"
   },
   "outputs": [],
   "source": [
    "#Define the EfficientNetB0 model itself. \n",
    "effB0_model = applications.EfficientNetB0(weights='imagenet', include_top=False,\n",
    "                                          input_shape=(224, 224, 3))\n"
   ]
  },
  {
   "cell_type": "code",
   "execution_count": null,
   "metadata": {
    "id": "OkMrIQgAh7MY"
   },
   "outputs": [],
   "source": [
    "#Define the shape, the optimizer, the learning rate, class numbers and epoches for the EfficientNetB0 model runnning.\n",
    "input_shape = (224, 224, 3)\n",
    "optim_2 = Adam(learning_rate=0.0001)\n",
    "n_classes = 20\n",
    "\n",
    "n_steps = train_gen.samples // BATCH_SIZE\n",
    "n_val_steps = valid_gen.samples // BATCH_SIZE\n",
    "n_epochs = 50"
   ]
  },
  {
   "cell_type": "code",
   "execution_count": null,
   "metadata": {
    "id": "3gYvlrz2OPMv"
   },
   "outputs": [],
   "source": [
    "#Define the layers in the EfficientNetB0.\n",
    "layer_dict = dict([(layer.name, layer) for layer in effB0_model.layers])\n",
    "\n",
    "top_model = layer_dict['top_activation'].output\n",
    "\n",
    "#Add layers to the model\n",
    "#Use ReLU activation functions in the last layer and a softmax layer, along with batch normalization\n",
    "#and a dropout rate of 20% as well as ADAM optimizer.\n",
    "top_model = BatchNormalization()(top_model)\n",
    "top_model = Flatten()(top_model)\n",
    "top_model = Dense(4096, activation='relu')(top_model)\n",
    "top_model = Dense(1072, activation='relu')(top_model)\n",
    "top_model = Dropout(0.2)(top_model)\n",
    "output_layer = Dense(n_classes, activation='softmax')(top_model)"
   ]
  },
  {
   "cell_type": "code",
   "execution_count": null,
   "metadata": {
    "id": "26b6jMkzvUMe"
   },
   "outputs": [],
   "source": [
    "#Create a new EfficientNetB0 model\n",
    "custom_effB0_model = Model(inputs=effB0_model.input, outputs=output_layer)"
   ]
  },
  {
   "cell_type": "code",
   "execution_count": null,
   "metadata": {
    "id": "Lhas0W_9vk8_"
   },
   "outputs": [],
   "source": [
    "#Compile it\n",
    "#Use multinomial cross entropy loss.\n",
    "custom_effB0_model.compile(optimizer=optim_2, loss='categorical_crossentropy', metrics=['accuracy'])"
   ]
  },
  {
   "cell_type": "code",
   "execution_count": null,
   "metadata": {
    "colab": {
     "base_uri": "https://localhost:8080/"
    },
    "id": "TlDrkYdXj5Ni",
    "outputId": "08af062c-4179-471a-97cb-b2f8e3481159"
   },
   "outputs": [
    {
     "name": "stdout",
     "output_type": "stream",
     "text": [
      "Looking in indexes: https://pypi.org/simple, https://us-python.pkg.dev/colab-wheels/public/simple/\n",
      "Requirement already satisfied: livelossplot in /usr/local/lib/python3.8/dist-packages (0.5.5)\n",
      "Requirement already satisfied: matplotlib in /usr/local/lib/python3.8/dist-packages (from livelossplot) (3.2.2)\n",
      "Requirement already satisfied: bokeh in /usr/local/lib/python3.8/dist-packages (from livelossplot) (2.3.3)\n",
      "Requirement already satisfied: packaging>=16.8 in /usr/local/lib/python3.8/dist-packages (from bokeh->livelossplot) (21.3)\n",
      "Requirement already satisfied: tornado>=5.1 in /usr/local/lib/python3.8/dist-packages (from bokeh->livelossplot) (6.0.4)\n",
      "Requirement already satisfied: PyYAML>=3.10 in /usr/local/lib/python3.8/dist-packages (from bokeh->livelossplot) (6.0)\n",
      "Requirement already satisfied: typing-extensions>=3.7.4 in /usr/local/lib/python3.8/dist-packages (from bokeh->livelossplot) (4.4.0)\n",
      "Requirement already satisfied: numpy>=1.11.3 in /usr/local/lib/python3.8/dist-packages (from bokeh->livelossplot) (1.21.6)\n",
      "Requirement already satisfied: python-dateutil>=2.1 in /usr/local/lib/python3.8/dist-packages (from bokeh->livelossplot) (2.8.2)\n",
      "Requirement already satisfied: Jinja2>=2.9 in /usr/local/lib/python3.8/dist-packages (from bokeh->livelossplot) (2.11.3)\n",
      "Requirement already satisfied: pillow>=7.1.0 in /usr/local/lib/python3.8/dist-packages (from bokeh->livelossplot) (7.1.2)\n",
      "Requirement already satisfied: MarkupSafe>=0.23 in /usr/local/lib/python3.8/dist-packages (from Jinja2>=2.9->bokeh->livelossplot) (2.0.1)\n",
      "Requirement already satisfied: pyparsing!=3.0.5,>=2.0.2 in /usr/local/lib/python3.8/dist-packages (from packaging>=16.8->bokeh->livelossplot) (3.0.9)\n",
      "Requirement already satisfied: six>=1.5 in /usr/local/lib/python3.8/dist-packages (from python-dateutil>=2.1->bokeh->livelossplot) (1.15.0)\n",
      "Requirement already satisfied: kiwisolver>=1.0.1 in /usr/local/lib/python3.8/dist-packages (from matplotlib->livelossplot) (1.4.4)\n",
      "Requirement already satisfied: cycler>=0.10 in /usr/local/lib/python3.8/dist-packages (from matplotlib->livelossplot) (0.11.0)\n"
     ]
    }
   ],
   "source": [
    "pip install livelossplot"
   ]
  },
  {
   "cell_type": "code",
   "execution_count": null,
   "metadata": {
    "id": "qr7todTki8oG"
   },
   "outputs": [],
   "source": [
    "from livelossplot.inputs.keras import PlotLossesCallback\n",
    "\n",
    "plot_loss_2 = PlotLossesCallback()\n",
    "\n",
    "#Create checkpoint for EfficientNetB0. \n",
    "tl_checkpoint_2 = ModelCheckpoint(filepath='tl_model_v2.weights.best.hdf5',\n",
    "                                  save_best_only=True,\n",
    "                                  verbose=1)\n",
    "\n",
    "#EarlyStopping using validation set.\n",
    "early_stop = EarlyStopping(monitor='val_loss',\n",
    "                           patience=10,\n",
    "                           restore_best_weights=True,\n",
    "                           mode='min')"
   ]
  },
  {
   "cell_type": "markdown",
   "metadata": {},
   "source": [
    "**Plot the Training and Validation errors vs. epochs graph**"
   ]
  },
  {
   "cell_type": "code",
   "execution_count": null,
   "metadata": {
    "colab": {
     "base_uri": "https://localhost:8080/",
     "height": 766
    },
    "id": "xESI7y-di41h",
    "outputId": "7163d093-35d9-43a2-e915-4e784cce53ba",
    "scrolled": true
   },
   "outputs": [
    {
     "data": {
      "image/png": "[encoded data removed]",
      "text/plain": [
       "<Figure size 864x576 with 2 Axes>"
      ]
     },
     "metadata": {
      "needs_background": "light"
     },
     "output_type": "display_data"
    },
    {
     "name": "stdout",
     "output_type": "stream",
     "text": [
      "accuracy\n",
      "\ttraining         \t (min:    0.078, max:    0.876, cur:    0.870)\n",
      "\tvalidation       \t (min:    0.094, max:    0.750, cur:    0.641)\n",
      "Loss\n",
      "\ttraining         \t (min:    0.410, max:    3.872, cur:    0.427)\n",
      "\tvalidation       \t (min:    0.687, max:    3.342, cur:    0.989)\n",
      "10/10 [==============================] - 15s 1s/step - loss: 0.4273 - accuracy: 0.8703 - val_loss: 0.9891 - val_accuracy: 0.6406\n",
      "CPU times: user 16min 36s, sys: 1min 32s, total: 18min 8s\n",
      "Wall time: 18min 10s\n"
     ]
    }
   ],
   "source": [
    "#Plot the graph with training and validation together. \n",
    "%%time \n",
    "\n",
    "effB0_history = custom_effB0_model.fit(train_gen,\n",
    "                          batch_size=BATCH_SIZE,\n",
    "                          epochs=n_epochs,\n",
    "                          validation_data=valid_gen,\n",
    "                          steps_per_epoch=n_steps,\n",
    "                          validation_steps=n_val_steps,\n",
    "                          callbacks=[tl_checkpoint_2, early_stop, plot_loss_2],\n",
    "                          verbose=1)"
   ]
  },
  {
   "cell_type": "markdown",
   "metadata": {},
   "source": [
    "From the graph above, the accuracy and loss analysis give us a good insights of the training using EfficientNetB0 model. The results of the traininng set accuracy here is better than the validation set. The highest accuracy for the training set is 0.876, which is 87.6%, and the highest accuracy for the validation set is 0.750, which is 75%. This graph also shows the training and validation set accuracy constantly increases during training. It is a good sign. Moreover, the loss of the training and the validation set is constantly decrease during the training of EfficientNetB0 model. "
   ]
  },
  {
   "cell_type": "markdown",
   "metadata": {},
   "source": [
    "**Get the test results，average model accuracy and report the Precision, Recall, and F1 scores (Classification Report for multi-class.)**"
   ]
  },
  {
   "cell_type": "code",
   "execution_count": null,
   "metadata": {
    "colab": {
     "base_uri": "https://localhost:8080/"
    },
    "id": "otGVus_blVAI",
    "outputId": "f39a8534-f6ab-4539-9bc5-40fa402a85be"
   },
   "outputs": [
    {
     "name": "stdout",
     "output_type": "stream",
     "text": [
      "185/185 [==============================] - 3s 15ms/step\n"
     ]
    }
   ],
   "source": [
    "#Initialize the best trained weights\n",
    "#Set the true classes and pred classes\n",
    "custom_effB0_model.load_weights('tl_model_v2.weights.best.hdf5') \n",
    "true_classes = test_gen.classes\n",
    "class_indices = traingen.class_indices\n",
    "class_indices = dict((v,k) for k,v in class_indices.items())\n",
    "\n",
    "effB0_preds = custom_effB0_model.predict(test_gen)\n",
    "effB0_pred_classes = np.argmax(effB0_preds, axis=1)"
   ]
  },
  {
   "cell_type": "code",
   "execution_count": null,
   "metadata": {
    "colab": {
     "base_uri": "https://localhost:8080/"
    },
    "id": "G04QfJNS1uIQ",
    "outputId": "8db86900-7476-4aa5-9e95-d3141d3547e7"
   },
   "outputs": [
    {
     "data": {
      "text/plain": [
       "array([[9.9905902e-01, 1.0812301e-05, 7.8678157e-09, ..., 1.2208230e-10,\n",
       "        5.5687060e-06, 2.0899373e-07],\n",
       "       [4.9462765e-01, 1.0673289e-02, 8.6262524e-05, ..., 1.3027967e-05,\n",
       "        5.1953453e-03, 4.3839950e-04],\n",
       "       [1.2370394e-01, 4.6896061e-05, 4.3826722e-07, ..., 1.4336426e-05,\n",
       "        6.5620450e-05, 7.7005490e-05],\n",
       "       ...,\n",
       "       [1.3564029e-01, 3.0274533e-03, 2.3193406e-02, ..., 4.1588832e-05,\n",
       "        1.9800293e-03, 1.4155252e-01],\n",
       "       [1.2482627e-07, 4.9701758e-09, 3.2829448e-08, ..., 2.1858273e-09,\n",
       "        8.3445251e-05, 9.9985445e-01],\n",
       "       [8.6506298e-03, 5.6355469e-02, 2.5207067e-02, ..., 1.1707186e-03,\n",
       "        1.8013090e-01, 1.4383665e-01]], dtype=float32)"
      ]
     },
     "execution_count": 39,
     "metadata": {},
     "output_type": "execute_result"
    }
   ],
   "source": [
    "effB0_preds"
   ]
  },
  {
   "cell_type": "code",
   "execution_count": null,
   "metadata": {
    "colab": {
     "base_uri": "https://localhost:8080/"
    },
    "id": "RgjhVJqZ1wsQ",
    "outputId": "3be7d9c2-e005-4c17-a4ca-06a1d32cfee3"
   },
   "outputs": [
    {
     "name": "stdout",
     "output_type": "stream",
     "text": [
      "EfficientNetB0 Model Accuracy : 59.46%\n"
     ]
    }
   ],
   "source": [
    "from sklearn.metrics import accuracy_score\n",
    "#Get the  average accuracy for the EfficientNetB0 model.\n",
    "effB0_acc = accuracy_score(true_classes, effB0_pred_classes)\n",
    "\n",
    "print(\"EfficientNetB0 Model Accuracy : {:.2f}%\".format(effB0_acc * 100))"
   ]
  },
  {
   "cell_type": "markdown",
   "metadata": {},
   "source": [
    "## The Classification Report for EfficientNetB0 model:"
   ]
  },
  {
   "cell_type": "code",
   "execution_count": null,
   "metadata": {
    "colab": {
     "base_uri": "https://localhost:8080/"
    },
    "id": "pHcnHSCB52qF",
    "outputId": "8ff06048-80b8-4dd8-c374-c65915142221"
   },
   "outputs": [
    {
     "name": "stdout",
     "output_type": "stream",
     "text": [
      "              precision    recall  f1-score   support\n",
      "\n",
      "           0       0.86      0.75      0.80         8\n",
      "           1       0.62      0.56      0.59         9\n",
      "           2       0.82      0.90      0.86        10\n",
      "           3       0.73      0.80      0.76        10\n",
      "           4       0.38      0.33      0.35         9\n",
      "           5       0.35      0.67      0.46         9\n",
      "           6       0.57      0.44      0.50         9\n",
      "           7       0.64      0.78      0.70         9\n",
      "           8       0.56      0.56      0.56         9\n",
      "           9       0.67      0.67      0.67         9\n",
      "          10       0.75      0.33      0.46         9\n",
      "          11       0.82      1.00      0.90         9\n",
      "          12       0.45      0.56      0.50         9\n",
      "          13       0.64      0.78      0.70         9\n",
      "          14       1.00      0.22      0.36         9\n",
      "          15       0.50      0.40      0.44        10\n",
      "          16       0.69      0.90      0.78        10\n",
      "          17       0.40      0.20      0.27        10\n",
      "          18       0.35      0.67      0.46         9\n",
      "          19       0.80      0.40      0.53        10\n",
      "\n",
      "    accuracy                           0.59       185\n",
      "   macro avg       0.63      0.60      0.58       185\n",
      "weighted avg       0.63      0.59      0.58       185\n",
      "\n"
     ]
    }
   ],
   "source": [
    "from PIL import Image\n",
    "from sklearn.metrics import classification_report\n",
    "\n",
    "y_true = true_classes\n",
    "y_pred = effB0_pred_classes\n",
    "\n",
    "print(classification_report(y_true, y_pred))"
   ]
  },
  {
   "cell_type": "markdown",
   "metadata": {},
   "source": [
    "The above is the EfficientNetB0 model training classification report. "
   ]
  },
  {
   "cell_type": "markdown",
   "metadata": {
    "id": "9jdWUOe31OdY"
   },
   "source": [
    "**Reference**\n",
    "\n",
    "https://github.com/jfilter/split-folders/blob/main/README.md\n",
    "\n",
    "https://www.learndatasci.com/tutorials/hands-on-transfer-learning-keras/\n",
    "\n",
    "https://www.learndatasci.com/tutorials/convolutional-neural-networks-image-classification/\n",
    "\n",
    "https://www.tensorflow.org/tutorials/images/data_augmentation#two_options_to_use_the_keras_preprocessing_layers\n",
    "\n",
    "https://keras.io/api/layers/normalization_layers/batch_normalization/\n",
    "\n",
    "https://scikit-learn.org/stable/modules/generated/sklearn.preprocessing.OneHotEncoder.html\n",
    "\n",
    "https://scikit-learn.org/stable/modules/model_evaluation.html\n",
    "\n",
    "https://scikit-learn.org/stable/modules/generated/sklearn.metrics.classification_report.html\n",
    "\n",
    "https://towardsdatascience.com/transfer-learning-for-image-classification-using-tensorflow-71c359b56673\n",
    "\n",
    "https://medium.com/analytics-vidhya/image-classification-with-vgg-convolutional-neural-network-using-keras-for-beginners-61767950c5dd\n",
    "\n",
    "https://scikit-learn.org/stable/modules/generated/sklearn.metrics.classification_report.html\n",
    "\n",
    "https://pypi.org/project/livelossplot/\n",
    "\n",
    "https://github.com/keras-team/keras/blob/master/keras/applications/vgg16.py\n",
    "\n",
    "https://keras.io/examples/vision/image_classification_efficientnet_fine_tuning/\n",
    "\n"
   ]
  },
  {
   "cell_type": "code",
   "execution_count": null,
   "metadata": {
    "id": "lkk9hogni43m"
   },
   "outputs": [],
   "source": []
  },
  {
   "cell_type": "code",
   "execution_count": null,
   "metadata": {
    "id": "uXeA6nyOi45l"
   },
   "outputs": [],
   "source": []
  },
  {
   "cell_type": "code",
   "execution_count": null,
   "metadata": {
    "id": "QQHqrqlGi47S"
   },
   "outputs": [],
   "source": []
  }
 ],
 "metadata": {
  "accelerator": "GPU",
  "colab": {
   "provenance": []
  },
  "gpuClass": "standard",
  "kernelspec": {
   "display_name": "Python 3 (ipykernel)",
   "language": "python",
   "name": "python3"
  },
  "language_info": {
   "codemirror_mode": {
    "name": "ipython",
    "version": 3
   },
   "file_extension": ".py",
   "mimetype": "text/x-python",
   "name": "python",
   "nbconvert_exporter": "python",
   "pygments_lexer": "ipython3",
   "version": "3.9.7"
  }
 },
 "nbformat": 4,
 "nbformat_minor": 1
}
