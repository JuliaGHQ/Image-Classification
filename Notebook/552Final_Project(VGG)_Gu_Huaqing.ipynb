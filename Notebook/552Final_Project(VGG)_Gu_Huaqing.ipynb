{
 "cells": [
  {
   "cell_type": "markdown",
   "metadata": {
    "id": "rdIFNWr8FDM_"
   },
   "source": [
    "Gu Huaqing Github Username: JuliaGHQ USC ID: 2433803934"
   ]
  },
  {
   "cell_type": "code",
   "execution_count": null,
   "metadata": {
    "id": "XR_oRViH8f9a"
   },
   "outputs": [],
   "source": [
    "# Common\n",
    "import os \n",
    "import cv2\n",
    "import keras \n",
    "import random\n",
    "import numpy as np\n",
    "import tensorflow as tf\n",
    "\n",
    "# Data Loading\n",
    "from keras.preprocessing.image import ImageDataGenerator\n",
    "\n",
    "# Data Visualization\n",
    "import plotly.express as px\n",
    "import matplotlib.pyplot as plt\n",
    "\n",
    "# Model \n",
    "import tensorflow_hub as hub\n",
    "from keras.models import Sequential, load_model\n",
    "from keras.layers import Dense\n",
    "\n",
    "# Callbacks\n",
    "from keras.callbacks import EarlyStopping, ModelCheckpoint\n",
    "\n",
    "# Optimizer\n",
    "from tensorflow.keras.optimizers import Adam\n",
    "\n",
    "from keras.models import Model\n",
    "from keras.optimizers import Adam\n",
    "from keras.applications.vgg16 import VGG16, preprocess_input\n",
    "from keras.preprocessing.image import ImageDataGenerator\n",
    "from keras.callbacks import ModelCheckpoint, EarlyStopping\n",
    "from keras.layers import Dense, Dropout, Flatten, BatchNormalization\n",
    "from tensorflow.keras.models import Sequential, Model, load_model\n",
    "from tensorflow.keras.layers import Dense,Conv2D,MaxPooling2D,Flatten,Dropout,BatchNormalization,Activation\n",
    "from tensorflow.keras.preprocessing.image import ImageDataGenerator\n",
    "from tensorflow.keras.preprocessing.image import load_img,img_to_array\n",
    "from tensorflow.keras import applications, optimizers\n",
    "from pathlib import Path"
   ]
  },
  {
   "cell_type": "code",
   "execution_count": null,
   "metadata": {
    "colab": {
     "base_uri": "https://localhost:8080/"
    },
    "id": "GlvzzURY-Yp6",
    "outputId": "b1c2c457-049a-4b62-fcb6-4af4ea4835fb"
   },
   "outputs": [
    {
     "name": "stdout",
     "output_type": "stream",
     "text": [
      "Looking in indexes: https://pypi.org/simple, https://us-python.pkg.dev/colab-wheels/public/simple/\n",
      "Collecting split-folders\n",
      "  Downloading split_folders-0.5.1-py3-none-any.whl (8.4 kB)\n",
      "Installing collected packages: split-folders\n",
      "Successfully installed split-folders-0.5.1\n"
     ]
    }
   ],
   "source": [
    "pip install split-folders"
   ]
  },
  {
   "cell_type": "markdown",
   "metadata": {
    "id": "Recb-B7t_qXW"
   },
   "source": [
    "***(a)&(b) Split folders and Choose batch size and do VGG***"
   ]
  },
  {
   "cell_type": "code",
   "execution_count": null,
   "metadata": {
    "colab": {
     "base_uri": "https://localhost:8080/"
    },
    "id": "SncWOQ3J-Pvk",
    "outputId": "406b556e-4207-4e86-868b-f54b1388ed00"
   },
   "outputs": [
    {
     "name": "stderr",
     "output_type": "stream",
     "text": [
      "Copying files: 1176 files [06:06,  3.21 files/s]\n"
     ]
    }
   ],
   "source": [
    "#Split image files in training set, validation set, and testing set in ratio(0.7,0.15,0.15).\n",
    "\n",
    "import splitfolders\n",
    "\n",
    "input_folder = '/content/drive/MyDrive/Colab Notebooks/552/images'\n",
    "splitfolders.ratio(input_folder, output=\"output\", seed=1, ratio=(0.7, 0.15,0.15), group_prefix=None, move=False) \n",
    "\n"
   ]
  },
  {
   "cell_type": "code",
   "execution_count": null,
   "metadata": {
    "id": "5hy40ZB0TWcF"
   },
   "outputs": [],
   "source": [
    "#Make sure the Batch size for processing and set the ImageDataGenerator to do the image augementation for train, validation and test sets. \n",
    "#The number of samples that will be propagated through the network is 64 to make sure the model is more  accurate. \n",
    "BATCH_SIZE = 64\n",
    "\n",
    "train_generator = ImageDataGenerator(rotation_range=90, \n",
    "                                     brightness_range=[0.1, 0.7],\n",
    "                                     width_shift_range=0.5, \n",
    "                                     height_shift_range=0.5,\n",
    "                                     horizontal_flip=True, \n",
    "                                     vertical_flip=True,\n",
    "                                     shear_range=0.2,\n",
    "                                     zoom_range=[0.1, 0.7],\n",
    "                                     validation_split=0.15,\n",
    "                                     preprocessing_function=preprocess_input) # VGG16 preprocessing\n",
    "val_generator = ImageDataGenerator(preprocessing_function=preprocess_input)  # VGG16 preprocessingw\n",
    "test_generator = ImageDataGenerator(preprocessing_function=preprocess_input) # VGG16 preprocessingw"
   ]
  },
  {
   "cell_type": "code",
   "execution_count": null,
   "metadata": {
    "id": "i1UDWjX1qm_g"
   },
   "outputs": [],
   "source": [
    "#Import the image or the data from the file path. \n",
    "download_dir = Path('/content/drive/MyDrive/Colab Notebooks/552/images')"
   ]
  },
  {
   "cell_type": "code",
   "execution_count": null,
   "metadata": {
    "id": "-dd0GfG4qyqC"
   },
   "outputs": [],
   "source": [
    "train_data_dir = \"/content/output/train\"\n",
    "test_data_dir = \"/content/output/test\"\n",
    "valid_data_dir = \"/content/output/val\""
   ]
  },
  {
   "cell_type": "markdown",
   "metadata": {
    "id": "9RrEBEMrM0H4"
   },
   "source": [
    "*Do One Hot Encoding for the Dataset*"
   ]
  },
  {
   "cell_type": "code",
   "execution_count": null,
   "metadata": {
    "colab": {
     "base_uri": "https://localhost:8080/"
    },
    "id": "mwrCgdPnTa8K",
    "outputId": "3170548d-b471-4939-e871-630b874b0706"
   },
   "outputs": [
    {
     "name": "stdout",
     "output_type": "stream",
     "text": [
      "Found 820 images belonging to 20 classes.\n",
      "Found 171 images belonging to 20 classes.\n",
      "Found 185 images belonging to 20 classes.\n"
     ]
    }
   ],
   "source": [
    "#Separate train, valid and test sets with target size and one hot encoding. \n",
    "class_subset = sorted(os.listdir(download_dir))\n",
    "\n",
    "train_gen = train_generator.flow_from_directory(train_data_dir,\n",
    "                                               target_size=(224, 224),\n",
    "                                               class_mode='categorical',\n",
    "                                               classes=class_subset,\n",
    "                                               batch_size=BATCH_SIZE, \n",
    "                                               shuffle=True,\n",
    "                                               seed=42)\n",
    "\n",
    "valid_gen = val_generator.flow_from_directory(valid_data_dir,\n",
    "                                               target_size=(224, 224),\n",
    "                                               class_mode='categorical',       #OneHotEncoder\n",
    "                                               classes=class_subset,\n",
    "                                               batch_size=BATCH_SIZE,\n",
    "                                               shuffle=False,\n",
    "                                               seed=42)\n",
    "\n",
    "test_gen = test_generator.flow_from_directory(test_data_dir,\n",
    "                                             target_size=(224, 224),\n",
    "                                             class_mode='categorical',\n",
    "                                             classes=class_subset,\n",
    "                                             batch_size=1,\n",
    "                                             shuffle=False,\n",
    "                                             seed=42)"
   ]
  },
  {
   "cell_type": "markdown",
   "metadata": {
    "id": "mfBOzaXeLqxf"
   },
   "source": [
    "**(c) Transfer learning VGG model and use Relu and train the VGG model for at least 50 epochs**"
   ]
  },
  {
   "cell_type": "code",
   "execution_count": null,
   "metadata": {
    "id": "9Ob4UFjw8AG5"
   },
   "outputs": [],
   "source": [
    "def create_model(input_shape, n_classes, optimizer='rmsprop', fine_tune=0):\n",
    "   \n",
    "    conv_base = VGG16(include_top=False,\n",
    "                     weights='imagenet', \n",
    "                     input_shape=input_shape)\n",
    "    \n",
    "   \n",
    "    if fine_tune > 0:\n",
    "        for layer in conv_base.layers[:-fine_tune]:\n",
    "            layer.trainable = False\n",
    "    else:\n",
    "        for layer in conv_base.layers:\n",
    "            layer.trainable = False\n",
    "\n",
    "    #Add layers to the model\n",
    "    #Use ReLU activation functions in the last layer and a softmax layer, along with batch normalization\n",
    "    #and a dropout rate of 20% as well as ADAM optimizer.\n",
    "    top_model = conv_base.output\n",
    "    top_model = Flatten(name=\"flatten\")(top_model)\n",
    "    top_model = Dense(4096, activation='relu')(top_model)\n",
    "    top_model = Dense(1072, activation='relu')(top_model)\n",
    "    top_model = BatchNormalization()(top_model)\n",
    "    top_model = Dropout(0.2)(top_model)\n",
    "    output_layer = Dense(n_classes, activation='softmax')(top_model)\n",
    "    \n",
    "   \n",
    "    model = Model(inputs=conv_base.input, outputs=output_layer)\n",
    "    \n",
    "    \n",
    "    ##Compile the model.\n",
    "    #Use multinomial cross entropy loss.\n",
    "    model.compile(optimizer=optimizer, \n",
    "                  loss='categorical_crossentropy',               #OneHotEncoder\n",
    "                  metrics=['accuracy'])\n",
    "    \n",
    "    return model"
   ]
  },
  {
   "cell_type": "code",
   "execution_count": null,
   "metadata": {
    "id": "nuINSp5089sd"
   },
   "outputs": [],
   "source": [
    "#Define the shape, the optimizer, the learning rate, class numbers and epoches for the VGG model runnning.\n",
    "input_shape = (224, 224, 3)\n",
    "optim_1 = Adam(learning_rate=0.001)\n",
    "n_classes = 20    \n",
    "\n",
    "n_steps = train_gen.samples // BATCH_SIZE\n",
    "n_val_steps = valid_gen.samples // BATCH_SIZE\n",
    "n_epochs = 50       \n",
    "\n",
    "vgg_model = create_model(input_shape, n_classes, optim_1, fine_tune=0)"
   ]
  },
  {
   "cell_type": "code",
   "execution_count": null,
   "metadata": {
    "colab": {
     "base_uri": "https://localhost:8080/"
    },
    "id": "kHHbYcpd9uaz",
    "outputId": "46695fc4-b5f9-4073-a628-3479276b5a24"
   },
   "outputs": [
    {
     "name": "stdout",
     "output_type": "stream",
     "text": [
      "Looking in indexes: https://pypi.org/simple, https://us-python.pkg.dev/colab-wheels/public/simple/\n",
      "Collecting livelossplot\n",
      "  Downloading livelossplot-0.5.5-py3-none-any.whl (22 kB)\n",
      "Requirement already satisfied: bokeh in /usr/local/lib/python3.8/dist-packages (from livelossplot) (2.3.3)\n",
      "Requirement already satisfied: matplotlib in /usr/local/lib/python3.8/dist-packages (from livelossplot) (3.2.2)\n",
      "Requirement already satisfied: python-dateutil>=2.1 in /usr/local/lib/python3.8/dist-packages (from bokeh->livelossplot) (2.8.2)\n",
      "Requirement already satisfied: Jinja2>=2.9 in /usr/local/lib/python3.8/dist-packages (from bokeh->livelossplot) (2.11.3)\n",
      "Requirement already satisfied: tornado>=5.1 in /usr/local/lib/python3.8/dist-packages (from bokeh->livelossplot) (6.0.4)\n",
      "Requirement already satisfied: PyYAML>=3.10 in /usr/local/lib/python3.8/dist-packages (from bokeh->livelossplot) (6.0)\n",
      "Requirement already satisfied: numpy>=1.11.3 in /usr/local/lib/python3.8/dist-packages (from bokeh->livelossplot) (1.21.6)\n",
      "Requirement already satisfied: pillow>=7.1.0 in /usr/local/lib/python3.8/dist-packages (from bokeh->livelossplot) (7.1.2)\n",
      "Requirement already satisfied: typing-extensions>=3.7.4 in /usr/local/lib/python3.8/dist-packages (from bokeh->livelossplot) (4.4.0)\n",
      "Requirement already satisfied: packaging>=16.8 in /usr/local/lib/python3.8/dist-packages (from bokeh->livelossplot) (21.3)\n",
      "Requirement already satisfied: MarkupSafe>=0.23 in /usr/local/lib/python3.8/dist-packages (from Jinja2>=2.9->bokeh->livelossplot) (2.0.1)\n",
      "Requirement already satisfied: pyparsing!=3.0.5,>=2.0.2 in /usr/local/lib/python3.8/dist-packages (from packaging>=16.8->bokeh->livelossplot) (3.0.9)\n",
      "Requirement already satisfied: six>=1.5 in /usr/local/lib/python3.8/dist-packages (from python-dateutil>=2.1->bokeh->livelossplot) (1.15.0)\n",
      "Requirement already satisfied: kiwisolver>=1.0.1 in /usr/local/lib/python3.8/dist-packages (from matplotlib->livelossplot) (1.4.4)\n",
      "Requirement already satisfied: cycler>=0.10 in /usr/local/lib/python3.8/dist-packages (from matplotlib->livelossplot) (0.11.0)\n",
      "Installing collected packages: livelossplot\n",
      "Successfully installed livelossplot-0.5.5\n"
     ]
    }
   ],
   "source": [
    "pip install livelossplot"
   ]
  },
  {
   "cell_type": "code",
   "execution_count": null,
   "metadata": {
    "id": "ra61zK5Y89vz"
   },
   "outputs": [],
   "source": [
    "from livelossplot.inputs.keras import PlotLossesCallback\n",
    "\n",
    "plot_loss_1 = PlotLossesCallback()\n",
    "\n",
    "#Set a checkpoint for VGG model.\n",
    "tl_checkpoint_1 = ModelCheckpoint(filepath='tl_model_v1.weights.best.hdf5',\n",
    "                                  save_best_only=True,\n",
    "                                  verbose=1)\n",
    "\n",
    "#EarlyStopping using validation set.\n",
    "early_stop = EarlyStopping(monitor='val_loss',\n",
    "                           patience=10,\n",
    "                           restore_best_weights=True,\n",
    "                           mode='min')"
   ]
  },
  {
   "cell_type": "markdown",
   "metadata": {
    "id": "YL4rWAUxNBtY"
   },
   "source": [
    "**Plot the Training and Validation errors vs. epochs graph**"
   ]
  },
  {
   "cell_type": "code",
   "execution_count": null,
   "metadata": {
    "colab": {
     "base_uri": "https://localhost:8080/",
     "height": 766
    },
    "id": "uu84eehT9wHh",
    "outputId": "c3efa254-723b-4ba0-f83a-122f4b42eed0"
   },
   "outputs": [
    {
     "data": {
      "image/png": "[encoded data removed]",
      "text/plain": [
       "<Figure size 864x576 with 2 Axes>"
      ]
     },
     "metadata": {
      "needs_background": "light"
     },
     "output_type": "display_data"
    },
    {
     "name": "stdout",
     "output_type": "stream",
     "text": [
      "accuracy\n",
      "\ttraining         \t (min:    0.071, max:    0.600, cur:    0.597)\n",
      "\tvalidation       \t (min:    0.125, max:    0.609, cur:    0.516)\n",
      "Loss\n",
      "\ttraining         \t (min:    1.278, max:  112.012, cur:    1.359)\n",
      "\tvalidation       \t (min:    1.238, max:   18.934, cur:    1.653)\n",
      "10/10 [==============================] - 14s 1s/step - loss: 1.3591 - accuracy: 0.5972 - val_loss: 1.6533 - val_accuracy: 0.5156\n",
      "CPU times: user 8min 29s, sys: 25 s, total: 8min 54s\n",
      "Wall time: 10min 30s\n"
     ]
    }
   ],
   "source": [
    "#Plot the graph with training and validation together. \n",
    "%%time \n",
    "\n",
    "vgg_history = vgg_model.fit(train_gen,\n",
    "                            batch_size=BATCH_SIZE,\n",
    "                            epochs=n_epochs,\n",
    "                            validation_data=valid_gen,\n",
    "                            steps_per_epoch=n_steps,\n",
    "                            validation_steps=n_val_steps,\n",
    "                            callbacks=[tl_checkpoint_1, early_stop, plot_loss_1],\n",
    "                            verbose=1)"
   ]
  },
  {
   "cell_type": "markdown",
   "metadata": {},
   "source": [
    "From the graph above, the accuracy and loss analysis on the bottom, we see that the the training and validation accuracy continue to increase during the VGG model training. The highest training accuracy is around 0.6, and the highest validation accuracy is around 0.61. The loss continue to decrease in the VGG model training, it is a good sign. "
   ]
  },
  {
   "cell_type": "markdown",
   "metadata": {
    "id": "UxQQ3aB9NRes"
   },
   "source": [
    "**Get the test results，average model accuracy and report the Precision, Recall, and F1 scores (Classification Report for multi-class.)**"
   ]
  },
  {
   "cell_type": "code",
   "execution_count": null,
   "metadata": {
    "colab": {
     "base_uri": "https://localhost:8080/"
    },
    "id": "9H651Xc389yE",
    "outputId": "1eb03e24-8d49-42fe-dd23-d11c73b88033"
   },
   "outputs": [
    {
     "name": "stdout",
     "output_type": "stream",
     "text": [
      "185/185 [==============================] - 3s 11ms/step\n"
     ]
    }
   ],
   "source": [
    "#Initialize the best trained weights\n",
    "vgg_model.load_weights('tl_model_v1.weights.best.hdf5') \n",
    "\n",
    "#Set the true classes and pred classes\n",
    "true_classes = test_gen.classes\n",
    "class_indices = train_gen.class_indices\n",
    "class_indices = dict((v,k) for k,v in class_indices.items())\n",
    "\n",
    "vgg_preds = vgg_model.predict(test_gen)\n",
    "vgg_pred_classes = np.argmax(vgg_preds, axis=1)"
   ]
  },
  {
   "cell_type": "code",
   "execution_count": null,
   "metadata": {
    "colab": {
     "base_uri": "https://localhost:8080/"
    },
    "id": "NveNFQGc89y_",
    "outputId": "edf0d2c0-ca44-4264-cdfc-e5a38488cc15"
   },
   "outputs": [
    {
     "data": {
      "text/plain": [
       "array([[9.9656641e-01, 3.5966295e-04, 4.7375767e-12, ..., 1.6181904e-13,\n",
       "        1.0735777e-15, 1.5631701e-11],\n",
       "       [4.3285523e-02, 2.6902987e-11, 6.1987340e-13, ..., 4.7721016e-16,\n",
       "        2.0923071e-15, 5.7237171e-12],\n",
       "       [1.4105080e-02, 7.0599908e-11, 1.1700004e-11, ..., 2.3276925e-12,\n",
       "        1.3902761e-12, 3.8471362e-11],\n",
       "       ...,\n",
       "       [9.7693085e-16, 6.2858671e-18, 6.3477037e-09, ..., 1.9301216e-17,\n",
       "        1.1306028e-06, 9.9999893e-01],\n",
       "       [3.7853633e-31, 0.0000000e+00, 2.3182029e-25, ..., 1.2352916e-31,\n",
       "        5.8484454e-12, 1.0000000e+00],\n",
       "       [9.8774342e-15, 4.6411017e-20, 1.2416284e-14, ..., 3.2773070e-10,\n",
       "        2.3629819e-04, 9.9976367e-01]], dtype=float32)"
      ]
     },
     "execution_count": 20,
     "metadata": {},
     "output_type": "execute_result"
    }
   ],
   "source": [
    "vgg_preds"
   ]
  },
  {
   "cell_type": "code",
   "execution_count": null,
   "metadata": {
    "colab": {
     "base_uri": "https://localhost:8080/"
    },
    "id": "2HnfIQVB7oQJ",
    "outputId": "c027f558-3308-4948-b0d0-5a82d25beac4"
   },
   "outputs": [
    {
     "name": "stdout",
     "output_type": "stream",
     "text": [
      "VGG16 Model Accuracy : 62.16%\n"
     ]
    }
   ],
   "source": [
    "from sklearn.metrics import accuracy_score\n",
    "#Get the  average accuracy for the VGG model.\n",
    "vgg_acc = accuracy_score(true_classes, vgg_pred_classes)\n",
    "print(\"VGG16 Model Accuracy : {:.2f}%\".format(vgg_acc * 100))"
   ]
  },
  {
   "cell_type": "markdown",
   "metadata": {
    "id": "QKKJku8eNrdE"
   },
   "source": [
    "The VGG model accuracy for this training model is 62.16%, which is a fair percentage of accracy. "
   ]
  },
  {
   "cell_type": "markdown",
   "metadata": {},
   "source": [
    "## The Classification Report for VGG model:"
   ]
  },
  {
   "cell_type": "code",
   "execution_count": null,
   "metadata": {
    "id": "SOGiCozO890S"
   },
   "outputs": [],
   "source": [
    "from PIL import Image\n",
    "from sklearn.metrics import classification_report"
   ]
  },
  {
   "cell_type": "code",
   "execution_count": null,
   "metadata": {
    "colab": {
     "base_uri": "https://localhost:8080/"
    },
    "id": "zHOJ1wtlAkxR",
    "outputId": "38c5d5b6-c86d-410a-e156-26578753e526"
   },
   "outputs": [
    {
     "name": "stdout",
     "output_type": "stream",
     "text": [
      "              precision    recall  f1-score   support\n",
      "\n",
      "           0       0.67      0.75      0.71         8\n",
      "           1       0.67      0.44      0.53         9\n",
      "           2       0.62      0.50      0.56        10\n",
      "           3       0.58      0.70      0.64        10\n",
      "           4       0.29      0.44      0.35         9\n",
      "           5       0.54      0.78      0.64         9\n",
      "           6       0.78      0.78      0.78         9\n",
      "           7       0.80      0.44      0.57         9\n",
      "           8       1.00      0.78      0.88         9\n",
      "           9       1.00      0.44      0.62         9\n",
      "          10       0.75      0.67      0.71         9\n",
      "          11       0.89      0.89      0.89         9\n",
      "          12       1.00      0.11      0.20         9\n",
      "          13       0.58      0.78      0.67         9\n",
      "          14       0.39      0.78      0.52         9\n",
      "          15       0.25      0.10      0.14        10\n",
      "          16       0.91      1.00      0.95        10\n",
      "          17       0.83      0.50      0.62        10\n",
      "          18       0.33      0.56      0.42         9\n",
      "          19       0.71      1.00      0.83        10\n",
      "\n",
      "    accuracy                           0.62       185\n",
      "   macro avg       0.68      0.62      0.61       185\n",
      "weighted avg       0.68      0.62      0.61       185\n",
      "\n"
     ]
    }
   ],
   "source": [
    "y_true = true_classes\n",
    "y_pred = vgg_pred_classes\n",
    "\n",
    "print(classification_report(y_true, y_pred))"
   ]
  },
  {
   "cell_type": "markdown",
   "metadata": {
    "id": "qiTf4Di_OTob"
   },
   "source": [
    "Above is the classification report of the VGG model. "
   ]
  },
  {
   "cell_type": "markdown",
   "metadata": {
    "id": "4aaIlZ3I0YG3"
   },
   "source": [
    "**Reference**\n",
    "\n",
    "https://github.com/jfilter/split-folders/blob/main/README.md\n",
    "\n",
    "https://www.learndatasci.com/tutorials/hands-on-transfer-learning-keras/\n",
    "\n",
    "https://www.learndatasci.com/tutorials/convolutional-neural-networks-image-classification/\n",
    "\n",
    "https://www.tensorflow.org/tutorials/images/data_augmentation#two_options_to_use_the_keras_preprocessing_layers\n",
    "\n",
    "https://keras.io/api/layers/normalization_layers/batch_normalization/\n",
    "\n",
    "https://scikit-learn.org/stable/modules/generated/sklearn.preprocessing.OneHotEncoder.html\n",
    "\n",
    "https://scikit-learn.org/stable/modules/model_evaluation.html\n",
    "\n",
    "https://scikit-learn.org/stable/modules/generated/sklearn.metrics.classification_report.html\n",
    "\n",
    "https://towardsdatascience.com/transfer-learning-for-image-classification-using-tensorflow-71c359b56673\n",
    "\n",
    "https://medium.com/analytics-vidhya/image-classification-with-vgg-convolutional-neural-network-using-keras-for-beginners-61767950c5dd\n",
    "\n",
    "https://scikit-learn.org/stable/modules/generated/sklearn.metrics.classification_report.html\n",
    "\n",
    "https://pypi.org/project/livelossplot/\n",
    "\n",
    "https://github.com/keras-team/keras/blob/master/keras/applications/vgg16.py\n",
    "\n"
   ]
  },
  {
   "cell_type": "code",
   "execution_count": null,
   "metadata": {
    "id": "ZwIvqJD76jyu"
   },
   "outputs": [],
   "source": []
  },
  {
   "cell_type": "code",
   "execution_count": null,
   "metadata": {
    "id": "SLk94kCz88-6"
   },
   "outputs": [],
   "source": []
  },
  {
   "cell_type": "code",
   "execution_count": null,
   "metadata": {
    "id": "pXT88aOF0bV4"
   },
   "outputs": [],
   "source": []
  }
 ],
 "metadata": {
  "accelerator": "GPU",
  "colab": {
   "provenance": []
  },
  "gpuClass": "standard",
  "kernelspec": {
   "display_name": "Python 3 (ipykernel)",
   "language": "python",
   "name": "python3"
  },
  "language_info": {
   "codemirror_mode": {
    "name": "ipython",
    "version": 3
   },
   "file_extension": ".py",
   "mimetype": "text/x-python",
   "name": "python",
   "nbconvert_exporter": "python",
   "pygments_lexer": "ipython3",
   "version": "3.9.7"
  }
 },
 "nbformat": 4,
 "nbformat_minor": 1
}
